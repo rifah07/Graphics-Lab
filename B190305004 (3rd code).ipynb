{
 "cells": [
  {
   "cell_type": "code",
   "execution_count": 1,
   "id": "d345eecc-d7e2-4c08-b0aa-32a941cbe3f6",
   "metadata": {},
   "outputs": [
    {
     "name": "stdin",
     "output_type": "stream",
     "text": [
      "Enter the value of horizontal axis(x) of Center:  0\n",
      "Enter the value of vertical axis(y) of Center:  0\n",
      "Enter the value of the Radious:  3\n"
     ]
    },
    {
     "name": "stdout",
     "output_type": "stream",
     "text": [
      "(3, 0)(3, 0)(0, 3)(0, 3)\n",
      "(3, 1)(-3, 1)(3, -1)(-3, -1)\n",
      "(1, 3)(-1, 3)(1, -3)(-1, -3)\n",
      "(2, 2)(-2, 2)(2, -2)(-2, -2)\n"
     ]
    },
    {
     "data": {
      "image/png": "[encoded data removed]",
      "text/plain": [
       "<Figure size 640x480 with 1 Axes>"
      ]
     },
     "metadata": {},
     "output_type": "display_data"
    }
   ],
   "source": [
    "from matplotlib import pyplot as plt \n",
    "\n",
    "def plot_circle(x_centre, y_centre, x, y):\n",
    "    \n",
    "    plt.plot(x + x_centre, y + y_centre, 'ro') \n",
    "    plt.plot(-x + x_centre, y + y_centre, 'ro')  \n",
    "    plt.plot(x + x_centre, -y + y_centre, 'ro') \n",
    "    plt.plot(-x + x_centre, -y + y_centre, 'ro')  \n",
    "    plt.plot(y + x_centre, x + y_centre, 'ro')  \n",
    "    plt.plot(-y + x_centre, x + y_centre, 'ro')  \n",
    "    plt.plot(y + x_centre, -x + y_centre, 'ro')  \n",
    "    plt.plot(-y + x_centre, -x + y_centre, 'ro')  \n",
    "\n",
    "def midPointCircleDraw(X, Y, r):\n",
    "    x = r\n",
    "    y = 0\n",
    "    x_centre = X\n",
    "    y_centre = Y\n",
    "    print(\"(\", x + x_centre, \", \", y + y_centre, \")\",  sep = \"\", end = \"\") \n",
    "    plot_circle(X, Y, x, y)\n",
    "\n",
    "    if (r > 0) :\n",
    "     \n",
    "        print(\"(\", x + X, \", \", -y + Y, \")\", sep = \"\", end = \"\") \n",
    "        print(\"(\", y + X, \", \", x + Y, \")\", sep = \"\", end = \"\") \n",
    "        print(\"(\", -y + x_centre, \", \", x + y_centre, \")\", sep = \"\") \n",
    "\n",
    "    P = 1 - r\n",
    "    while x > y:\n",
    "        y += 1\n",
    "        if P <= 0:\n",
    "            P = P + 2 * y + 1\n",
    "        else:\n",
    "            x -= 1\n",
    "            P = P + 2 * y - 2 * x + 1\n",
    "        if (x < y):\n",
    "            break\n",
    "            \n",
    "        print(\"(\", x + x_centre, \", \", y + y_centre, \")\", sep = \"\", end = \"\") \n",
    "        print(\"(\", -x + x_centre, \", \", y + y_centre, \")\", sep = \"\", end = \"\") \n",
    "        print(\"(\", x + x_centre, \", \", -y + y_centre, \")\", sep = \"\", end = \"\") \n",
    "        print(\"(\", -x + x_centre, \", \", -y + y_centre, \")\", sep = \"\") \n",
    "        plot_circle(x_centre, y_centre, x, y)\n",
    "        \n",
    "        if x != y:\n",
    "         \n",
    "            print(\"(\", y + x_centre, \", \", x + y_centre, \")\", sep = \"\", end = \"\") \n",
    "            print(\"(\", -y + x_centre, \", \", x + y_centre, \")\", sep = \"\", end = \"\") \n",
    "            print(\"(\", y + x_centre, \", \", -x + y_centre, \")\", sep = \"\", end = \"\") \n",
    "            print(\"(\", -y + x_centre, \", \", -x + y_centre, \")\", sep = \"\")\n",
    "\n",
    "    plt.axis('equal')\n",
    "    plt.grid()\n",
    "    plt.show()\n",
    "\n",
    "\n",
    "X = int(input(\"Enter the value of horizontal axis(x) of Center: \"))\n",
    "Y = int(input(\"Enter the value of vertical axis(y) of Center: \"))\n",
    "r = int(input(\"Enter the value of the Radious: \"))\n",
    "midPointCircleDraw(X, Y, r)\n"
   ]
  },
  {
   "cell_type": "code",
   "execution_count": null,
   "id": "4be502f9-5d68-446d-b0d6-206a82ed8208",
   "metadata": {},
   "outputs": [],
   "source": []
  }
 ],
 "metadata": {
  "kernelspec": {
   "display_name": "Python 3 (ipykernel)",
   "language": "python",
   "name": "python3"
  },
  "language_info": {
   "codemirror_mode": {
    "name": "ipython",
    "version": 3
   },
   "file_extension": ".py",
   "mimetype": "text/x-python",
   "name": "python",
   "nbconvert_exporter": "python",
   "pygments_lexer": "ipython3",
   "version": "3.11.7"
  }
 },
 "nbformat": 4,
 "nbformat_minor": 5
}
